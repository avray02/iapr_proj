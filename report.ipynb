{
 "cells": [
  {
   "cell_type": "code",
   "execution_count": null,
   "metadata": {},
   "outputs": [],
   "source": [
    "# Mean_color = np.zeros((len(x_train),3))\n",
    "# for i in range(len(x_train)):\n",
    "#     Mean_color[i,:] = x_train[i].mean(axis=(0,1))\n",
    "\n",
    "# np.shape(Mean_color)"
   ]
  },
  {
   "cell_type": "code",
   "execution_count": 10,
   "metadata": {},
   "outputs": [
    {
     "data": {
      "text/plain": [
       "2"
      ]
     },
     "execution_count": 10,
     "metadata": {},
     "output_type": "execute_result"
    }
   ],
   "source": [
    "# fig, axs = plt.subplots(1, 2, figsize=(6, 3))\n",
    "\n",
    "# axs[0].scatter(Mean_color[:,0], Mean_color[:,1], c=types_train, cmap='viridis')\n",
    "\n",
    "# sc = axs[1].scatter(Mean_color[:,0], Mean_color[:,1]/Mean_color[:,0], c=types_train, cmap='viridis')\n",
    "\n",
    "# plt.colorbar(sc)"
   ]
  },
  {
   "cell_type": "code",
   "execution_count": null,
   "metadata": {},
   "outputs": [],
   "source": [
    "# _, axs = plt.subplots(len(x_sample), 4, figsize=(15/6*4,5/3*len(x_sample)))\n",
    "\n",
    "# axs[0,0].set_title('Hue channel')\n",
    "# axs[0,1].set_title('Saturation channel')\n",
    "# axs[0,2].set_title('Value channel')\n",
    "# # axs[0,-2].set_title('Personalized channel')\n",
    "# axs[0,-1].set_title('Identified image')\n",
    "\n",
    "# for i in range(len(x_sample)):\n",
    "#     circles, img_type = localization(x_sample[i])\n",
    "\n",
    "#     axs[i,-1].imshow(x_sample[i])\n",
    "#     axs[i,-1].axis('off')\n",
    "\n",
    "#     for circle in circles:\n",
    "#         x, y, radius = circle\n",
    "#         center = (int(x), int(y))\n",
    "#         area = np.pi*radius**2\n",
    "#         circle = plt.Circle(center, radius, color='r', fill=False)  # Create a circle object\n",
    "#         axs[i,-1].add_artist(circle)  # Add the circle to the plot\n",
    "\n",
    "\n",
    "# plt.tight_layout()\n",
    "    "
   ]
  }
 ],
 "metadata": {
  "kernelspec": {
   "display_name": "iapr",
   "language": "python",
   "name": "python3"
  },
  "language_info": {
   "codemirror_mode": {
    "name": "ipython",
    "version": 3
   },
   "file_extension": ".py",
   "mimetype": "text/x-python",
   "name": "python",
   "nbconvert_exporter": "python",
   "pygments_lexer": "ipython3",
   "version": "3.10.13"
  }
 },
 "nbformat": 4,
 "nbformat_minor": 2
}
